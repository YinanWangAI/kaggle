{
 "cells": [
  {
   "cell_type": "code",
   "execution_count": 7,
   "metadata": {
    "collapsed": true
   },
   "outputs": [],
   "source": [
    "import os\n",
    "import pandas as pd"
   ]
  },
  {
   "cell_type": "code",
   "execution_count": 13,
   "metadata": {
    "collapsed": false,
    "scrolled": false
   },
   "outputs": [
    {
     "name": "stdout",
     "output_type": "stream",
     "text": [
      "Processing .DS_Store\n",
      "Processing de-dept.CSV\n",
      "Processing de-diag_in.CSV\n",
      "Processing de-diag_out.CSV\n",
      "Processing de-icd.CSV\n",
      "Cannot decode de-icd.CSV\n",
      "Processing de-lis.CSV\n",
      "Processing de-patient.CSV\n",
      "Processing de-rx.CSV\n",
      "Processing de-rx_catalog.CSV\n",
      "Processing de-vital.CSV\n"
     ]
    }
   ],
   "source": [
    "root_dir = '/Users/yinan/Documents/intern/Pfizer/data/pkufh-de/'\n",
    "files = os.listdir(root_dir)\n",
    "for file in files:\n",
    "    print('Processing {}'.format(file))\n",
    "    if file == '.DS_Store':\n",
    "        continue\n",
    "    try:\n",
    "        tmp = pd.read_csv(os.path.join(root_dir, file), encoding='gbk')\n",
    "    except:\n",
    "        print('Cannot decode {}'.format(file))\n",
    "        continue\n",
    "    file_out = file.split('.')[0] + '.xlsx'\n",
    "    tmp.to_excel(os.path.join(root_dir, file_out))"
   ]
  },
  {
   "cell_type": "code",
   "execution_count": 19,
   "metadata": {
    "collapsed": false
   },
   "outputs": [],
   "source": [
    "tmp = pd.read_csv(os.path.join(root_dir, 'de-icd.CSV'), encoding='utf-8')\n",
    "tmp.to_excel(os.path.join(root_dir, 'de-icd.xlsx'))"
   ]
  },
  {
   "cell_type": "code",
   "execution_count": 23,
   "metadata": {
    "collapsed": false
   },
   "outputs": [],
   "source": [
    "tmp = pd.read_csv('/Users/yinan/Documents/intern/Pfizer/data/fuwai-de/From_Client/基线-de.csv', \n",
    "                  encoding='gbk', low_memory=False)\n",
    "tmp.to_excel('/Users/yinan/Desktop/基线-de.xlsx')"
   ]
  },
  {
   "cell_type": "code",
   "execution_count": null,
   "metadata": {
    "collapsed": true
   },
   "outputs": [],
   "source": []
  }
 ],
 "metadata": {
  "kernelspec": {
   "display_name": "Python 3",
   "language": "python",
   "name": "python3"
  },
  "language_info": {
   "codemirror_mode": {
    "name": "ipython",
    "version": 3
   },
   "file_extension": ".py",
   "mimetype": "text/x-python",
   "name": "python",
   "nbconvert_exporter": "python",
   "pygments_lexer": "ipython3",
   "version": "3.5.1"
  }
 },
 "nbformat": 4,
 "nbformat_minor": 0
}
